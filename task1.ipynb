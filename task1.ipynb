{
 "cells": [
  {
   "cell_type": "code",
   "execution_count": 25,
   "id": "2aa1f4af-8ca5-49d0-a285-aecfa6744ed7",
   "metadata": {},
   "outputs": [],
   "source": [
    "#S1\n",
    "import pandas as pd\n",
    "import numpy as np\n",
    "import matplotlib.pyplot as plt\n",
    "import seaborn as sns"
   ]
  },
  {
   "cell_type": "code",
   "execution_count": 41,
   "id": "245f6c9c-402f-4e96-b323-9a7d3d7e7712",
   "metadata": {},
   "outputs": [],
   "source": [
    "df=pd.read_csv('Titanic-Dataset.csv')"
   ]
  },
  {
   "cell_type": "code",
   "execution_count": 42,
   "id": "c10d087d-b197-421b-875d-aa14b2d16620",
   "metadata": {},
   "outputs": [
    {
     "name": "stdout",
     "output_type": "stream",
     "text": [
      "<class 'pandas.core.frame.DataFrame'>\n",
      "RangeIndex: 891 entries, 0 to 890\n",
      "Data columns (total 12 columns):\n",
      " #   Column       Non-Null Count  Dtype  \n",
      "---  ------       --------------  -----  \n",
      " 0   PassengerId  891 non-null    int64  \n",
      " 1   Survived     891 non-null    int64  \n",
      " 2   Pclass       891 non-null    int64  \n",
      " 3   Name         891 non-null    object \n",
      " 4   Sex          891 non-null    object \n",
      " 5   Age          714 non-null    float64\n",
      " 6   SibSp        891 non-null    int64  \n",
      " 7   Parch        891 non-null    int64  \n",
      " 8   Ticket       891 non-null    object \n",
      " 9   Fare         891 non-null    float64\n",
      " 10  Cabin        204 non-null    object \n",
      " 11  Embarked     889 non-null    object \n",
      "dtypes: float64(2), int64(5), object(5)\n",
      "memory usage: 83.7+ KB\n"
     ]
    }
   ],
   "source": [
    "df.head()\n",
    "df.info()"
   ]
  },
  {
   "cell_type": "code",
   "execution_count": 43,
   "id": "fe8a1ff9-dc72-49bb-b56b-613207eb18c8",
   "metadata": {},
   "outputs": [
    {
     "data": {
      "text/plain": [
       "PassengerId      0\n",
       "Survived         0\n",
       "Pclass           0\n",
       "Name             0\n",
       "Sex              0\n",
       "Age            177\n",
       "SibSp            0\n",
       "Parch            0\n",
       "Ticket           0\n",
       "Fare             0\n",
       "Cabin          687\n",
       "Embarked         2\n",
       "dtype: int64"
      ]
     },
     "execution_count": 43,
     "metadata": {},
     "output_type": "execute_result"
    }
   ],
   "source": [
    "df.isnull().sum()\n"
   ]
  },
  {
   "cell_type": "code",
   "execution_count": 44,
   "id": "8ba26286-c802-4bac-b7dd-a8d25abf9096",
   "metadata": {},
   "outputs": [
    {
     "data": {
      "text/plain": [
       "PassengerId     0.000000\n",
       "Survived        0.000000\n",
       "Pclass          0.000000\n",
       "Name            0.000000\n",
       "Sex             0.000000\n",
       "Age            19.865320\n",
       "SibSp           0.000000\n",
       "Parch           0.000000\n",
       "Ticket          0.000000\n",
       "Fare            0.000000\n",
       "Cabin          77.104377\n",
       "Embarked        0.224467\n",
       "dtype: float64"
      ]
     },
     "execution_count": 44,
     "metadata": {},
     "output_type": "execute_result"
    }
   ],
   "source": [
    "df.isnull().sum()/df.shape[0]*100      #% of null val"
   ]
  },
  {
   "cell_type": "code",
   "execution_count": 45,
   "id": "151b229c-878a-4216-b54f-3135f7c8236d",
   "metadata": {},
   "outputs": [
    {
     "data": {
      "text/plain": [
       "np.int64(0)"
      ]
     },
     "execution_count": 45,
     "metadata": {},
     "output_type": "execute_result"
    }
   ],
   "source": [
    "df.duplicated().sum()"
   ]
  },
  {
   "cell_type": "code",
   "execution_count": 65,
   "id": "c481737e-788d-4cdf-8dc3-efc384de723c",
   "metadata": {},
   "outputs": [
    {
     "name": "stdout",
     "output_type": "stream",
     "text": [
      "Index(['PassengerId', 'Survived', 'Pclass', 'Name', 'Sex', 'Age', 'SibSp',\n",
      "       'Parch', 'Ticket', 'Fare', 'Embarked'],\n",
      "      dtype='object')\n"
     ]
    }
   ],
   "source": [
    "#check garbage\n",
    "print(df.columns)"
   ]
  },
  {
   "cell_type": "code",
   "execution_count": 64,
   "id": "4d555d46-cdca-4a0c-9081-826ac46cdca6",
   "metadata": {},
   "outputs": [
    {
     "name": "stdout",
     "output_type": "stream",
     "text": [
      "\n",
      "🔎 Checking Name\n",
      "['Cumings, Mrs. John Bradley (Florence Briggs Thayer)'\n",
      " 'Futrelle, Mrs. Jacques Heath (Lily May Peel)' 'McCarthy, Mr. Timothy J'\n",
      " 'Sandstrom, Miss. Marguerite Rut' 'Bonnell, Miss. Elizabeth'\n",
      " 'Beesley, Mr. Lawrence' 'Sloper, Mr. William Thompson'\n",
      " 'Fortune, Mr. Charles Alexander'\n",
      " 'Harper, Mrs. Henry Sleeper (Myna Haxtun)'\n",
      " 'Ostby, Mr. Engelhart Cornelius' 'Harris, Mr. Henry Birkhardt'\n",
      " 'Nye, Mrs. (Elizabeth Ramell)' 'Moen, Mr. Sigurd Hansen'\n",
      " 'Fortune, Miss. Mabel Helen' 'Chaffee, Mr. Herbert Fuller'\n",
      " 'Goldschmidt, Mr. George B' 'Greenfield, Mr. William Bertram'\n",
      " 'White, Mr. Richard Frasar' 'Porter, Mr. Walter Chamberlain'\n",
      " 'Baxter, Mr. Quigg Edmond' 'Webber, Miss. Susan'\n",
      " 'White, Mr. Percival Wayland' 'Newsom, Miss. Helen Monypeny'\n",
      " 'Futrelle, Mr. Jacques Heath' 'Giglio, Mr. Victor'\n",
      " 'Navratil, Mr. Michel (\"Louis M Hoffman\")'\n",
      " 'Pears, Mrs. Thomas (Edith Wearne)' 'Van der hoef, Mr. Wyckoff'\n",
      " 'Smith, Mr. James Clinch' 'Isham, Miss. Ann Elizabeth'\n",
      " 'Becker, Master. Richard F' 'Navratil, Master. Michel M'\n",
      " 'Brown, Mrs. James Joseph (Margaret Tobin)' 'Lurette, Miss. Elise'\n",
      " 'Strom, Miss. Telma Matilda' 'Blank, Mr. Henry' 'Newell, Miss. Madeleine'\n",
      " 'Bazzani, Miss. Albina' 'Hoyt, Mr. Frederick Maxfield'\n",
      " 'Harris, Mrs. Henry Birkhardt (Irene Wallach)'\n",
      " 'Minahan, Dr. William Edward' 'Beckwith, Mr. Richard Leonard'\n",
      " 'Strom, Mrs. Wilhelm (Elna Matilda Persson)' 'Stead, Mr. William Thomas'\n",
      " 'Cherry, Miss. Gladys' 'Taussig, Mr. Emil' 'Harrison, Mr. William'\n",
      " 'Graham, Mrs. William Thompson (Edith Junkins)' 'Bissette, Miss. Amelia'\n",
      " 'Natsch, Mr. Charles H' 'Andrews, Miss. Kornelia Theodosia'\n",
      " 'Bishop, Mrs. Dickinson H (Helen Walton)' 'Levy, Mr. Rene Jacques'\n",
      " 'Allison, Miss. Helen Loraine'\n",
      " 'Baxter, Mrs. James (Helene DeLaudeniere Chaput)'\n",
      " 'Allison, Master. Hudson Trevor'\n",
      " 'Penasco y Castellana, Mrs. Victor de Satode (Maria Josefa Perez de Soto y Vallejo)'\n",
      " 'Francatelli, Miss. Laura Mabel' 'Hays, Miss. Margaret Bechstein'\n",
      " 'Ryerson, Miss. Emily Borie' 'Wick, Miss. Mary Natalie'\n",
      " 'Spedden, Mrs. Frederic Oakley (Margaretta Corning Stone)'\n",
      " 'Young, Miss. Marie Grice' 'Ball, Mrs. (Ada E Hall)'\n",
      " 'Hippach, Miss. Jean Gertrude' 'Partner, Mr. Austen'\n",
      " 'Graham, Mr. George Edward' 'Pears, Mr. Thomas Clinton'\n",
      " 'Burns, Miss. Elizabeth Margaret' 'Blackwell, Mr. Stephen Weart'\n",
      " 'Navratil, Master. Edmond Roger' 'Fortune, Miss. Alice Elizabeth'\n",
      " 'Brown, Miss. Amelia \"Mildred\"' 'Bowerman, Miss. Elsie Edith'\n",
      " 'Warren, Mrs. Frank Manley (Anna Sophia Atkinson)'\n",
      " 'Aubart, Mme. Leontine Pauline' 'Harder, Mr. George Achilles'\n",
      " 'Widener, Mr. Harry Elkins' 'Carter, Mr. William Ernest'\n",
      " 'Newell, Miss. Marjorie'\n",
      " 'Sandstrom, Mrs. Hjalmar (Agnes Charlotta Bengtsson)'\n",
      " 'Minahan, Miss. Daisy E' 'Pickard, Mr. Berk (Berk Trembisky)'\n",
      " 'Bjornstrom-Steffansson, Mr. Mauritz Hakan' 'Silvey, Mr. William Baird'\n",
      " 'Carter, Miss. Lucile Polk' 'Fortune, Mr. Mark'\n",
      " 'Dodge, Master. Washington' 'Peuchen, Major. Arthur Godfrey'\n",
      " 'Foreman, Mr. Benjamin Laventall' 'Goldenberg, Mr. Samuel L'\n",
      " 'Millet, Mr. Francis Davis' 'Anderson, Mr. Harry' 'Gee, Mr. Arthur H'\n",
      " 'Jerwan, Mrs. Amin S (Marie Marthe Thuillard)' 'Bishop, Mr. Dickinson H'\n",
      " 'Hoyt, Mrs. Frederick Maxfield (Jane Anne Forby)'\n",
      " 'Kent, Mr. Edward Austin' 'Molson, Mr. Harry Markland'\n",
      " 'Eustis, Miss. Elizabeth Mussey'\n",
      " 'Allison, Mrs. Hudson J C (Bessie Waldo Daniels)' 'Maioni, Miss. Roberta'\n",
      " 'Penasco y Castellana, Mr. Victor de Satode' 'McGough, Mr. James Robert'\n",
      " 'Walker, Mr. William Anderson' 'Lemore, Mrs. (Amelia Milley)'\n",
      " 'Perreault, Miss. Anne' 'Hippach, Mrs. Louis Albert (Ida Sophia Fischer)'\n",
      " 'Butt, Major. Archibald Willingham' 'Frolicher, Miss. Hedwig Margaritha'\n",
      " 'Crosby, Miss. Harriet R' 'Douglas, Mr. Walter Donald'\n",
      " 'Thayer, Mr. John Borland Jr'\n",
      " 'Duff Gordon, Lady. (Lucille Christiana Sutherland) (\"Mrs Morgan\")'\n",
      " 'Taussig, Mrs. Emil (Tillie Mandelbaum)'\n",
      " 'Appleton, Mrs. Edward Dale (Charlotte Lamson)'\n",
      " 'Flynn, Mr. John Irwin (\"Irving\")'\n",
      " 'Silvey, Mrs. William Baird (Alice Munger)'\n",
      " 'Thayer, Mrs. John Borland (Marian Longstreth Morris)'\n",
      " 'Ross, Mr. John Hugo' 'Taussig, Miss. Ruth'\n",
      " 'Frolicher-Stehli, Mr. Maxmillian'\n",
      " 'Stephenson, Mrs. Walter Bertram (Martha Eustis)'\n",
      " 'Duff Gordon, Sir. Cosmo Edmund (\"Mr Morgan\")'\n",
      " 'Shutes, Miss. Elizabeth W' 'Becker, Miss. Marion Louise'\n",
      " 'Kimball, Mr. Edwin Nelson Jr' 'Sutton, Mr. Frederick'\n",
      " 'Longley, Miss. Gretchen Fiske' 'Barkworth, Mr. Algernon Henry Wilson'\n",
      " 'Stahelin-Maeglin, Dr. Max' 'Sagesser, Mlle. Emma'\n",
      " 'Harper, Mr. Henry Sleeper' 'Simonius-Blumer, Col. Oberst Alfons'\n",
      " 'Newell, Mr. Arthur Webster' 'Colley, Mr. Edward Pomeroy'\n",
      " 'Davidson, Mr. Thornton' 'Cardeza, Mr. Thomas Drake Martinez'\n",
      " 'Hassab, Mr. Hammad' 'Madill, Miss. Georgette Alexandra'\n",
      " 'Dick, Mr. Albert Adrian' 'Thayer, Mr. John Borland'\n",
      " 'Humblen, Mr. Adolf Mathias Nicolai Olsen'\n",
      " 'Astor, Mrs. John Jacob (Madeleine Talmadge Force)'\n",
      " 'Silverthorne, Mr. Spencer Victor' 'Calderhead, Mr. Edward Pennington'\n",
      " 'Mayne, Mlle. Berthe Antonine (\"Mrs de Villiers\")'\n",
      " 'Taylor, Mr. Elmer Zebley' 'Soholt, Mr. Peter Andreas Lauritz Andersen'\n",
      " 'Endres, Miss. Caroline Louise' 'Troutt, Miss. Edwina Celia \"Winnie\"'\n",
      " 'Chambers, Mr. Norman Campbell' 'Allen, Miss. Elisabeth Walton'\n",
      " 'Lesurer, Mr. Gustave J' 'Cavendish, Mr. Tyrell William'\n",
      " 'Ryerson, Miss. Susan Parker \"Suzette\"' 'Crosby, Capt. Edward Gifford'\n",
      " 'Marvin, Mr. Daniel Warner' 'Moor, Master. Meier'\n",
      " 'Rothes, the Countess. of (Lucy Noel Martha Dyer-Edwards)'\n",
      " 'Carter, Mrs. William Ernest (Lucile Polk)'\n",
      " 'Hogeboom, Mrs. John C (Anna Andrews)' 'Mack, Mrs. (Mary)'\n",
      " 'Robert, Mrs. Edward Scott (Elisabeth Walton McMillan)'\n",
      " 'Dick, Mrs. Albert Adrian (Vera Gillespie)' 'Long, Mr. Milton Clyde'\n",
      " 'Guggenheim, Mr. Benjamin' 'Leader, Dr. Alice (Farnham)'\n",
      " 'Carter, Master. William Thornton II' 'Andrews, Mr. Thomas Jr'\n",
      " 'Chambers, Mrs. Norman Campbell (Bertha Griggs)'\n",
      " 'Hays, Mrs. Charles Melville (Clara Jennings Gregg)' 'Moor, Mrs. (Beila)'\n",
      " 'Compton, Miss. Sara Rebecca' 'Lines, Miss. Mary Conover'\n",
      " 'Daly, Mr. Peter Denis '\n",
      " 'Swift, Mrs. Frederick Joel (Margaret Welles Barron)'\n",
      " 'Roebling, Mr. Washington Augustus II'\n",
      " 'Beckwith, Mrs. Richard Leonard (Sallie Monypeny)'\n",
      " 'Carlsson, Mr. Frans Olof'\n",
      " 'Potter, Mrs. Thomas Jr (Lily Alexenia Wilson)'\n",
      " 'Graham, Miss. Margaret Edith' 'Behr, Mr. Karl Howell']\n",
      "\n",
      "🔎 Checking Sex\n",
      "['female' 'male']\n",
      "\n",
      "🔎 Checking Ticket\n",
      "['PC 17599' '113803' '17463' 'PP 9549' '113783' '248698' '113788' '19950'\n",
      " 'PC 17572' '113509' '36973' 'C.A. 29395' '348123' 'W.E.P. 5734'\n",
      " 'PC 17754' 'PC 17759' '35281' '110465' 'PC 17558' '27267' '11752'\n",
      " 'PC 17593' '230080' '113776' '111240' '17764' 'PC 17595' '230136'\n",
      " 'PC 17610' 'PC 17569' '347054' '112277' '35273' '11813' '19943' '19928'\n",
      " '11751' '113514' '110152' '110413' '112059' 'PC 17582' 'PC 17760'\n",
      " 'PC 17596' '13502' '11967' 'SC/Paris 2163' '113781' 'PC 17758' 'PC 17485'\n",
      " '11767' 'PC 17608' '36928' '16966' '28551' '111361' '113043' '113784'\n",
      " '248733' '113505' '110813' 'PC 17477' '11765' '113503' '113760'\n",
      " 'SOTON/O.Q. 392078' '110564' '13507' '33638' '113786' '113051' '17453'\n",
      " '13509' '19952' '111320' 'SC/AH Basle 541' '11771' '113787' '36947'\n",
      " 'PC 17473' '36967' 'C.A. 34260' '12749' '113050' '13568' 'WE/P 5735'\n",
      " 'PC 17761' '17421' '11755' '11769' 'PC 17474' '13049' '13567' '11753'\n",
      " '36963' '27042' '13214' '13213' '5727' 'F.C. 12750' 'PC 17755' '24160'\n",
      " '17474' '348121' 'PC 17757' 'PC 17475' 'PC 17476' 'PC 17482' '19996'\n",
      " '348124' '34218' '113806' '19877' '113773' '392096' 'S.O./P.P. 3'\n",
      " '113501' '17465' '112050' 'PC 17756' 'PC 17592' '113055' '17466'\n",
      " 'PC 17590' '695' '112053' '111369']\n",
      "\n",
      "🔎 Checking Embarked\n",
      "['C' 'S' 'Q']\n"
     ]
    }
   ],
   "source": [
    "for col in df.select_dtypes(include='object').columns:      #checks garbage values\n",
    "    print(f\"\\n🔎 Checking {col}\")\n",
    "    print(df[col].unique())"
   ]
  },
  {
   "cell_type": "code",
   "execution_count": 46,
   "id": "10234430-0fff-4472-9ad2-67db32d33e4a",
   "metadata": {},
   "outputs": [
    {
     "data": {
      "text/plain": [
       "(891, 12)"
      ]
     },
     "execution_count": 46,
     "metadata": {},
     "output_type": "execute_result"
    }
   ],
   "source": [
    "df.shape\n"
   ]
  },
  {
   "cell_type": "code",
   "execution_count": 47,
   "id": "6c49e862-b95a-401b-b18b-81c65a626c77",
   "metadata": {},
   "outputs": [],
   "source": [
    "df.dropna(inplace=True)\n",
    "df.drop_duplicates(inplace=True)"
   ]
  },
  {
   "cell_type": "code",
   "execution_count": 48,
   "id": "4df3094f-1384-4318-81f7-c16c0558e0f7",
   "metadata": {},
   "outputs": [
    {
     "name": "stdout",
     "output_type": "stream",
     "text": [
      "PassengerId      int64\n",
      "Survived         int64\n",
      "Pclass           int64\n",
      "Name            object\n",
      "Sex             object\n",
      "Age            float64\n",
      "SibSp            int64\n",
      "Parch            int64\n",
      "Ticket          object\n",
      "Fare           float64\n",
      "Cabin           object\n",
      "Embarked        object\n",
      "dtype: object\n"
     ]
    }
   ],
   "source": [
    "print(df.dtypes)"
   ]
  },
  {
   "cell_type": "code",
   "execution_count": 66,
   "id": "f30e5d0d-105f-4bce-b2cf-ea921fae1b23",
   "metadata": {},
   "outputs": [],
   "source": [
    "#s2\n",
    "df['Age']=df['Age'].fillna(df['Age'].mean())  #fill empty age with avg age"
   ]
  },
  {
   "cell_type": "code",
   "execution_count": 67,
   "id": "80ae9aa6-1fa8-44f1-b563-3666b40455c4",
   "metadata": {},
   "outputs": [],
   "source": [
    "df['Embarked']=df['Embarked'].fillna(df['Embarked'].mode()[0])"
   ]
  },
  {
   "cell_type": "code",
   "execution_count": null,
   "id": "fd4f0874-de5c-4a6a-ab49-bba3ae560f28",
   "metadata": {},
   "outputs": [],
   "source": [
    "df.drop('Cabin' ,axis=1,inplace=True) #drop cabin as it has too much missing values"
   ]
  },
  {
   "cell_type": "code",
   "execution_count": 69,
   "id": "db49f561-246d-4cd9-8cda-d6adc6d792bd",
   "metadata": {},
   "outputs": [
    {
     "name": "stdout",
     "output_type": "stream",
     "text": [
      "PassengerId    0\n",
      "Survived       0\n",
      "Pclass         0\n",
      "Name           0\n",
      "Sex            0\n",
      "Age            0\n",
      "SibSp          0\n",
      "Parch          0\n",
      "Ticket         0\n",
      "Fare           0\n",
      "Embarked       0\n",
      "dtype: int64\n"
     ]
    }
   ],
   "source": [
    "print(df.isnull().sum())"
   ]
  },
  {
   "cell_type": "code",
   "execution_count": null,
   "id": "acb415c0-a0d9-467a-8053-99bab81dd567",
   "metadata": {},
   "outputs": [],
   "source": [
    "#s3 covert categorical values into numerical using encoding\n",
    "df=pd.get_dummies(df,columns=['Sex','Embarked'],drop_first=True)   #replaces sex eith sex_male(1male,0feamle),turn emabrk to embar_S and q"
   ]
  },
  {
   "cell_type": "code",
   "execution_count": 77,
   "id": "eccb8d99-496f-4f0b-9202-525659d66831",
   "metadata": {},
   "outputs": [
    {
     "data": {
      "text/html": [
       "<div>\n",
       "<style scoped>\n",
       "    .dataframe tbody tr th:only-of-type {\n",
       "        vertical-align: middle;\n",
       "    }\n",
       "\n",
       "    .dataframe tbody tr th {\n",
       "        vertical-align: top;\n",
       "    }\n",
       "\n",
       "    .dataframe thead th {\n",
       "        text-align: right;\n",
       "    }\n",
       "</style>\n",
       "<table border=\"1\" class=\"dataframe\">\n",
       "  <thead>\n",
       "    <tr style=\"text-align: right;\">\n",
       "      <th></th>\n",
       "      <th>PassengerId</th>\n",
       "      <th>Survived</th>\n",
       "      <th>Pclass</th>\n",
       "      <th>Name</th>\n",
       "      <th>Age</th>\n",
       "      <th>SibSp</th>\n",
       "      <th>Parch</th>\n",
       "      <th>Ticket</th>\n",
       "      <th>Fare</th>\n",
       "      <th>Sex_male</th>\n",
       "      <th>Embarked_Q</th>\n",
       "      <th>Embarked_S</th>\n",
       "    </tr>\n",
       "  </thead>\n",
       "  <tbody>\n",
       "    <tr>\n",
       "      <th>1</th>\n",
       "      <td>2</td>\n",
       "      <td>1</td>\n",
       "      <td>1</td>\n",
       "      <td>Cumings, Mrs. John Bradley (Florence Briggs Th...</td>\n",
       "      <td>38.0</td>\n",
       "      <td>1</td>\n",
       "      <td>0</td>\n",
       "      <td>PC 17599</td>\n",
       "      <td>71.2833</td>\n",
       "      <td>False</td>\n",
       "      <td>False</td>\n",
       "      <td>False</td>\n",
       "    </tr>\n",
       "    <tr>\n",
       "      <th>3</th>\n",
       "      <td>4</td>\n",
       "      <td>1</td>\n",
       "      <td>1</td>\n",
       "      <td>Futrelle, Mrs. Jacques Heath (Lily May Peel)</td>\n",
       "      <td>35.0</td>\n",
       "      <td>1</td>\n",
       "      <td>0</td>\n",
       "      <td>113803</td>\n",
       "      <td>53.1000</td>\n",
       "      <td>False</td>\n",
       "      <td>False</td>\n",
       "      <td>True</td>\n",
       "    </tr>\n",
       "    <tr>\n",
       "      <th>6</th>\n",
       "      <td>7</td>\n",
       "      <td>0</td>\n",
       "      <td>1</td>\n",
       "      <td>McCarthy, Mr. Timothy J</td>\n",
       "      <td>54.0</td>\n",
       "      <td>0</td>\n",
       "      <td>0</td>\n",
       "      <td>17463</td>\n",
       "      <td>51.8625</td>\n",
       "      <td>True</td>\n",
       "      <td>False</td>\n",
       "      <td>True</td>\n",
       "    </tr>\n",
       "    <tr>\n",
       "      <th>10</th>\n",
       "      <td>11</td>\n",
       "      <td>1</td>\n",
       "      <td>3</td>\n",
       "      <td>Sandstrom, Miss. Marguerite Rut</td>\n",
       "      <td>4.0</td>\n",
       "      <td>1</td>\n",
       "      <td>1</td>\n",
       "      <td>PP 9549</td>\n",
       "      <td>16.7000</td>\n",
       "      <td>False</td>\n",
       "      <td>False</td>\n",
       "      <td>True</td>\n",
       "    </tr>\n",
       "    <tr>\n",
       "      <th>11</th>\n",
       "      <td>12</td>\n",
       "      <td>1</td>\n",
       "      <td>1</td>\n",
       "      <td>Bonnell, Miss. Elizabeth</td>\n",
       "      <td>58.0</td>\n",
       "      <td>0</td>\n",
       "      <td>0</td>\n",
       "      <td>113783</td>\n",
       "      <td>26.5500</td>\n",
       "      <td>False</td>\n",
       "      <td>False</td>\n",
       "      <td>True</td>\n",
       "    </tr>\n",
       "  </tbody>\n",
       "</table>\n",
       "</div>"
      ],
      "text/plain": [
       "    PassengerId  Survived  Pclass  \\\n",
       "1             2         1       1   \n",
       "3             4         1       1   \n",
       "6             7         0       1   \n",
       "10           11         1       3   \n",
       "11           12         1       1   \n",
       "\n",
       "                                                 Name   Age  SibSp  Parch  \\\n",
       "1   Cumings, Mrs. John Bradley (Florence Briggs Th...  38.0      1      0   \n",
       "3        Futrelle, Mrs. Jacques Heath (Lily May Peel)  35.0      1      0   \n",
       "6                             McCarthy, Mr. Timothy J  54.0      0      0   \n",
       "10                    Sandstrom, Miss. Marguerite Rut   4.0      1      1   \n",
       "11                           Bonnell, Miss. Elizabeth  58.0      0      0   \n",
       "\n",
       "      Ticket     Fare  Sex_male  Embarked_Q  Embarked_S  \n",
       "1   PC 17599  71.2833     False       False       False  \n",
       "3     113803  53.1000     False       False        True  \n",
       "6      17463  51.8625      True       False        True  \n",
       "10   PP 9549  16.7000     False       False        True  \n",
       "11    113783  26.5500     False       False        True  "
      ]
     },
     "execution_count": 77,
     "metadata": {},
     "output_type": "execute_result"
    }
   ],
   "source": [
    "df.head()"
   ]
  },
  {
   "cell_type": "code",
   "execution_count": 79,
   "id": "4a589e95-71b8-4132-a258-0ac81b48002a",
   "metadata": {},
   "outputs": [
    {
     "name": "stdout",
     "output_type": "stream",
     "text": [
      "         Age      Fare\n",
      "1   0.149065 -0.097180\n",
      "3  -0.043230 -0.335997\n",
      "6   1.174636 -0.352250\n",
      "10 -2.030273 -0.814070\n",
      "11  1.431029 -0.684702\n"
     ]
    }
   ],
   "source": [
    "#s4 normalise and standarize\n",
    "\n",
    "from sklearn.preprocessing import StandardScaler\n",
    "cols_to_scale=['Age','Fare']\n",
    "scaler=StandardScaler()\n",
    "df[cols_to_scale] = scaler.fit_transform(df[cols_to_scale])\n",
    "print(df[cols_to_scale].head())\n"
   ]
  },
  {
   "cell_type": "code",
   "execution_count": 80,
   "id": "56508a3e-e4e3-49c3-ac13-84a50fd22324",
   "metadata": {},
   "outputs": [
    {
     "data": {
      "text/html": [
       "<div>\n",
       "<style scoped>\n",
       "    .dataframe tbody tr th:only-of-type {\n",
       "        vertical-align: middle;\n",
       "    }\n",
       "\n",
       "    .dataframe tbody tr th {\n",
       "        vertical-align: top;\n",
       "    }\n",
       "\n",
       "    .dataframe thead th {\n",
       "        text-align: right;\n",
       "    }\n",
       "</style>\n",
       "<table border=\"1\" class=\"dataframe\">\n",
       "  <thead>\n",
       "    <tr style=\"text-align: right;\">\n",
       "      <th></th>\n",
       "      <th>PassengerId</th>\n",
       "      <th>Survived</th>\n",
       "      <th>Pclass</th>\n",
       "      <th>Name</th>\n",
       "      <th>Age</th>\n",
       "      <th>SibSp</th>\n",
       "      <th>Parch</th>\n",
       "      <th>Ticket</th>\n",
       "      <th>Fare</th>\n",
       "      <th>Sex_male</th>\n",
       "      <th>Embarked_Q</th>\n",
       "      <th>Embarked_S</th>\n",
       "    </tr>\n",
       "  </thead>\n",
       "  <tbody>\n",
       "    <tr>\n",
       "      <th>1</th>\n",
       "      <td>2</td>\n",
       "      <td>1</td>\n",
       "      <td>1</td>\n",
       "      <td>Cumings, Mrs. John Bradley (Florence Briggs Th...</td>\n",
       "      <td>0.149065</td>\n",
       "      <td>1</td>\n",
       "      <td>0</td>\n",
       "      <td>PC 17599</td>\n",
       "      <td>-0.097180</td>\n",
       "      <td>False</td>\n",
       "      <td>False</td>\n",
       "      <td>False</td>\n",
       "    </tr>\n",
       "    <tr>\n",
       "      <th>3</th>\n",
       "      <td>4</td>\n",
       "      <td>1</td>\n",
       "      <td>1</td>\n",
       "      <td>Futrelle, Mrs. Jacques Heath (Lily May Peel)</td>\n",
       "      <td>-0.043230</td>\n",
       "      <td>1</td>\n",
       "      <td>0</td>\n",
       "      <td>113803</td>\n",
       "      <td>-0.335997</td>\n",
       "      <td>False</td>\n",
       "      <td>False</td>\n",
       "      <td>True</td>\n",
       "    </tr>\n",
       "    <tr>\n",
       "      <th>6</th>\n",
       "      <td>7</td>\n",
       "      <td>0</td>\n",
       "      <td>1</td>\n",
       "      <td>McCarthy, Mr. Timothy J</td>\n",
       "      <td>1.174636</td>\n",
       "      <td>0</td>\n",
       "      <td>0</td>\n",
       "      <td>17463</td>\n",
       "      <td>-0.352250</td>\n",
       "      <td>True</td>\n",
       "      <td>False</td>\n",
       "      <td>True</td>\n",
       "    </tr>\n",
       "    <tr>\n",
       "      <th>10</th>\n",
       "      <td>11</td>\n",
       "      <td>1</td>\n",
       "      <td>3</td>\n",
       "      <td>Sandstrom, Miss. Marguerite Rut</td>\n",
       "      <td>-2.030273</td>\n",
       "      <td>1</td>\n",
       "      <td>1</td>\n",
       "      <td>PP 9549</td>\n",
       "      <td>-0.814070</td>\n",
       "      <td>False</td>\n",
       "      <td>False</td>\n",
       "      <td>True</td>\n",
       "    </tr>\n",
       "    <tr>\n",
       "      <th>11</th>\n",
       "      <td>12</td>\n",
       "      <td>1</td>\n",
       "      <td>1</td>\n",
       "      <td>Bonnell, Miss. Elizabeth</td>\n",
       "      <td>1.431029</td>\n",
       "      <td>0</td>\n",
       "      <td>0</td>\n",
       "      <td>113783</td>\n",
       "      <td>-0.684702</td>\n",
       "      <td>False</td>\n",
       "      <td>False</td>\n",
       "      <td>True</td>\n",
       "    </tr>\n",
       "  </tbody>\n",
       "</table>\n",
       "</div>"
      ],
      "text/plain": [
       "    PassengerId  Survived  Pclass  \\\n",
       "1             2         1       1   \n",
       "3             4         1       1   \n",
       "6             7         0       1   \n",
       "10           11         1       3   \n",
       "11           12         1       1   \n",
       "\n",
       "                                                 Name       Age  SibSp  Parch  \\\n",
       "1   Cumings, Mrs. John Bradley (Florence Briggs Th...  0.149065      1      0   \n",
       "3        Futrelle, Mrs. Jacques Heath (Lily May Peel) -0.043230      1      0   \n",
       "6                             McCarthy, Mr. Timothy J  1.174636      0      0   \n",
       "10                    Sandstrom, Miss. Marguerite Rut -2.030273      1      1   \n",
       "11                           Bonnell, Miss. Elizabeth  1.431029      0      0   \n",
       "\n",
       "      Ticket      Fare  Sex_male  Embarked_Q  Embarked_S  \n",
       "1   PC 17599 -0.097180     False       False       False  \n",
       "3     113803 -0.335997     False       False        True  \n",
       "6      17463 -0.352250      True       False        True  \n",
       "10   PP 9549 -0.814070     False       False        True  \n",
       "11    113783 -0.684702     False       False        True  "
      ]
     },
     "execution_count": 80,
     "metadata": {},
     "output_type": "execute_result"
    }
   ],
   "source": [
    "df.head()"
   ]
  },
  {
   "cell_type": "code",
   "execution_count": 81,
   "id": "be3fdb9a-39cf-478d-ba64-35ed88d4cb44",
   "metadata": {},
   "outputs": [
    {
     "data": {
      "image/png": "[encoded data removed]",
      "text/plain": [
       "<Figure size 640x480 with 1 Axes>"
      ]
     },
     "metadata": {},
     "output_type": "display_data"
    }
   ],
   "source": [
    "#s5 plots\n",
    "\n",
    "import matplotlib.pyplot as plt\n",
    "\n",
    "# Simple line plot of Age and Fare\n",
    "plt.plot(df['Age'], label='Scaled Age')\n",
    "plt.plot(df['Fare'], label='Scaled Fare')\n",
    "plt.title('Scaled Age and Fare (Line Plot)')\n",
    "plt.legend()\n",
    "plt.show()\n",
    "\n"
   ]
  },
  {
   "cell_type": "code",
   "execution_count": 83,
   "id": "14674baa-e207-4445-9b8f-6e3f483456ec",
   "metadata": {},
   "outputs": [
    {
     "data": {
      "image/png": "[encoded data removed]",
      "text/plain": [
       "<Figure size 1200x500 with 2 Axes>"
      ]
     },
     "metadata": {},
     "output_type": "display_data"
    }
   ],
   "source": [
    "import seaborn as sns\n",
    "import matplotlib.pyplot as plt\n",
    "\n",
    "plt.figure(figsize=(12, 5))\n",
    "\n",
    "# Boxplot for Age\n",
    "plt.subplot(1, 2, 1)\n",
    "sns.boxplot(x=df['Age'], color='lightblue')\n",
    "plt.title('Boxplot of Scaled Age')\n",
    "\n",
    "# Boxplot for Fare\n",
    "plt.subplot(1, 2, 2)\n",
    "sns.boxplot(x=df['Fare'], color='lightpink')\n",
    "plt.title('Boxplot of Scaled Fare')\n",
    "\n",
    "plt.tight_layout()\n",
    "plt.show()"
   ]
  },
  {
   "cell_type": "code",
   "execution_count": 84,
   "id": "76d8108b-49b9-495c-9adb-d7f1be132a2b",
   "metadata": {},
   "outputs": [
    {
     "name": "stdout",
     "output_type": "stream",
     "text": [
      "After removing outliers, shape is: (181, 12)\n"
     ]
    }
   ],
   "source": [
    "#remove rows\n",
    "df = df[(df['Age'] > -3) & (df['Age'] < 3)]\n",
    "df = df[(df['Fare'] > -3) & (df['Fare'] < 3)]\n",
    "\n",
    "print(\"After removing outliers, shape is:\", df.shape)"
   ]
  },
  {
   "cell_type": "code",
   "execution_count": null,
   "id": "7e1ad7d8-d6e0-4b10-917f-407e0154d43a",
   "metadata": {},
   "outputs": [],
   "source": []
  }
 ],
 "metadata": {
  "kernelspec": {
   "display_name": "Python [conda env:base] *",
   "language": "python",
   "name": "conda-base-py"
  },
  "language_info": {
   "codemirror_mode": {
    "name": "ipython",
    "version": 3
   },
   "file_extension": ".py",
   "mimetype": "text/x-python",
   "name": "python",
   "nbconvert_exporter": "python",
   "pygments_lexer": "ipython3",
   "version": "3.13.5"
  }
 },
 "nbformat": 4,
 "nbformat_minor": 5
}
